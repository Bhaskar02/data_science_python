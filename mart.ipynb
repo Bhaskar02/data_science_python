{
 "cells": [
  {
   "cell_type": "markdown",
   "id": "3b4468a1",
   "metadata": {},
   "source": [
    "# DESCRIPTION\n",
    "\n",
    "One of the leading retail stores in the US, Walmart, would like to predict the sales and demand accurately. There are certain events and holidays which impact sales on each day. There are sales data available for 45 stores of Walmart. The business is facing a challenge due to unforeseen demands and runs out of stock some times, due to the inappropriate machine learning algorithm. An ideal ML algorithm will predict demand accurately and ingest factors like economic conditions including CPI, Unemployment Index, etc.\n",
    "\n",
    "Walmart runs several promotional markdown events throughout the year. These markdowns precede prominent holidays, the four largest of all, which are the Super Bowl, Labour Day, Thanksgiving, and Christmas. The weeks including these holidays are weighted five times higher in the evaluation than non-holiday weeks. Part of the challenge presented by this competition is modeling the effects of markdowns on these holiday weeks in the absence of complete/ideal historical data. Historical sales data for 45 Walmart stores located in different regions are available.\n",
    "\n",
    "Dataset Description\n",
    "\n",
    "This is the historical data that covers sales from 2010-02-05 to 2012-11-01, in the file Walmart_Store_sales. Within this file you will find the following fields:\n",
    "\n",
    "    Store - the store number\n",
    "\n",
    "    Date - the week of sales\n",
    "\n",
    "    Weekly_Sales -  sales for the given store\n",
    "\n",
    "    Holiday_Flag - whether the week is a special holiday week 1 – Holiday week 0 – Non-holiday week\n",
    "\n",
    "    Temperature - Temperature on the day of sale\n",
    "\n",
    "    Fuel_Price - Cost of fuel in the region\n",
    "\n",
    "    CPI – Prevailing consumer price index\n",
    "\n",
    "    Unemployment - Prevailing unemployment rate\n",
    "\n",
    "Holiday Events\n",
    "\n",
    "Super Bowl: 12-Feb-10, 11-Feb-11, 10-Feb-12, 8-Feb-13\n",
    "Labour Day: 10-Sep-10, 9-Sep-11, 7-Sep-12, 6-Sep-13\n",
    "Thanksgiving: 26-Nov-10, 25-Nov-11, 23-Nov-12, 29-Nov-13\n",
    "Christmas: 31-Dec-10, 30-Dec-11, 28-Dec-12, 27-Dec-13\n",
    "\n",
    "Analysis Tasks\n",
    "\n",
    "Basic Statistics tasks\n",
    "\n",
    "    Which store has maximum sales\n",
    "\n",
    "    Which store has maximum standard deviation i.e., the sales vary a lot. Also, find out the coefficient of mean to standard deviation\n",
    "\n",
    "    Which store/s has good quarterly growth rate in Q3’2012\n",
    "\n",
    "    Some holidays have a negative impact on sales. Find out holidays which have higher sales than the mean sales in non-holiday season for all stores together\n",
    "\n",
    "    Provide a monthly and semester view of sales in units and give insights\n",
    "\n",
    "Statistical Model\n",
    "\n",
    "For Store 1 – Build  prediction models to forecast demand\n",
    "\n",
    "    Linear Regression – Utilize variables like date and restructure dates as 1 for 5 Feb 2010 (starting from the earliest date in order). Hypothesize if CPI, unemployment, and fuel price have any impact on sales.\n",
    "\n",
    "    Change dates into days by creating new variable.\n",
    "\n",
    "Select the model which gives best accuracy.\n"
   ]
  },
  {
   "cell_type": "code",
   "execution_count": null,
   "id": "d3556317",
   "metadata": {},
   "outputs": [],
   "source": [
    "# Import necessary libraries\n",
    "import pandas as pd\n",
    "import seaborn as sns\n",
    "import numpy as np\n",
    "import matplotlib.pyplot as plt\n",
    "from matplotlib import dates\n",
    "from datetime import datetime"
   ]
  },
  {
   "cell_type": "markdown",
   "id": "b9dd5de3",
   "metadata": {},
   "source": [
    "# import pandas as pd\n",
    "import numpy as np\n",
    "import matplotlib.pyplot as plt\n",
    "from datetime import datetime"
   ]
  },
  {
   "cell_type": "code",
   "execution_count": null,
   "id": "c493596c",
   "metadata": {},
   "outputs": [],
   "source": [
    "data=pd.read_csv(\"data/Walmart_Store_sales.csv\")"
   ]
  },
  {
   "cell_type": "code",
   "execution_count": null,
   "id": "bf4e87ec",
   "metadata": {},
   "outputs": [],
   "source": [
    "data.head()"
   ]
  },
  {
   "cell_type": "code",
   "execution_count": null,
   "id": "a6173ba9",
   "metadata": {},
   "outputs": [],
   "source": [
    "data.isnull().sum()"
   ]
  },
  {
   "cell_type": "code",
   "execution_count": null,
   "id": "f8e13608",
   "metadata": {},
   "outputs": [],
   "source": [
    "data.describe()"
   ]
  },
  {
   "cell_type": "code",
   "execution_count": null,
   "id": "c8abccdd",
   "metadata": {},
   "outputs": [],
   "source": [
    "data['Date']=pd.to_datetime(data['Date'])"
   ]
  },
  {
   "cell_type": "code",
   "execution_count": null,
   "id": "3a856da2",
   "metadata": {},
   "outputs": [],
   "source": [
    "data.info()"
   ]
  },
  {
   "cell_type": "code",
   "execution_count": null,
   "id": "8917a5e9",
   "metadata": {},
   "outputs": [],
   "source": [
    "data.dtypes"
   ]
  },
  {
   "cell_type": "code",
   "execution_count": null,
   "id": "a95075f2",
   "metadata": {},
   "outputs": [],
   "source": [
    "data['days']=pd.DatetimeIndex(data['Date']).day"
   ]
  },
  {
   "cell_type": "code",
   "execution_count": null,
   "id": "7daf2f22",
   "metadata": {},
   "outputs": [],
   "source": [
    "data['Month']=pd.DatetimeIndex(data[\"Date\"]).month"
   ]
  },
  {
   "cell_type": "code",
   "execution_count": null,
   "id": "a4c91d7e",
   "metadata": {},
   "outputs": [],
   "source": [
    "data['year']=pd.DatetimeIndex(data[\"Date\"]).year"
   ]
  },
  {
   "cell_type": "code",
   "execution_count": null,
   "id": "68adacd6",
   "metadata": {},
   "outputs": [],
   "source": [
    "data.head()"
   ]
  },
  {
   "cell_type": "code",
   "execution_count": null,
   "id": "74cc1bfd",
   "metadata": {},
   "outputs": [],
   "source": [
    "maxsale=data.groupby('Store')['Weekly_Sales'].sum().sort_values(ascending=False)"
   ]
  },
  {
   "cell_type": "code",
   "execution_count": null,
   "id": "e5ff0725",
   "metadata": {},
   "outputs": [],
   "source": [
    "maxsale.values.argmax()"
   ]
  },
  {
   "cell_type": "code",
   "execution_count": null,
   "id": "facdefc1",
   "metadata": {},
   "outputs": [],
   "source": [
    "maxsale.index[0]\n"
   ]
  },
  {
   "cell_type": "code",
   "execution_count": null,
   "id": "1f2336ca",
   "metadata": {},
   "outputs": [],
   "source": [
    "maxsale.plot(kind=\"bar\",figsize=(16,6),stacked=True,\n",
    "                                             title=\"Total sales for each store\")"
   ]
  },
  {
   "cell_type": "markdown",
   "id": "20c5356c",
   "metadata": {},
   "source": [
    "# Which store has maximum standard deviation i.e., the sales vary a lot. Also, find out the coefficient of mean to standard deviation"
   ]
  },
  {
   "cell_type": "code",
   "execution_count": null,
   "id": "061fd783",
   "metadata": {},
   "outputs": [],
   "source": [
    "maxstd=pd.DataFrame(data.groupby('Store')['Weekly_Sales'].sum().sort_values(ascending=False))"
   ]
  },
  {
   "cell_type": "code",
   "execution_count": null,
   "id": "ac19ba85",
   "metadata": {},
   "outputs": [],
   "source": [
    "print(\"the store has maximum standard deviation\"+str(maxstd.index[0])+\" with {0:.0f} $\".format(maxstd.head(1).Weekly_Sales[maxstd.head(1).index[0]]))"
   ]
  },
  {
   "cell_type": "code",
   "execution_count": null,
   "id": "f04c3edb",
   "metadata": {},
   "outputs": [],
   "source": [
    "import seaborn as sns"
   ]
  },
  {
   "cell_type": "code",
   "execution_count": null,
   "id": "b86719d2",
   "metadata": {},
   "outputs": [],
   "source": [
    "plt.figure(figsize=(15,7))\n",
    "sns.distplot(data[data['Store']==maxstd.index[0]]['Weekly_Sales'])\n",
    "plt.title('The Sales Distribution of Store #'+ str(maxstd.head(1).index[0]));"
   ]
  },
  {
   "cell_type": "code",
   "execution_count": null,
   "id": "8da8a21f",
   "metadata": {},
   "outputs": [],
   "source": [
    "co_mean_std = pd.DataFrame(data.groupby('Store')['Weekly_Sales'].std()/data.groupby('Store')['Weekly_Sales'].mean())"
   ]
  },
  {
   "cell_type": "code",
   "execution_count": null,
   "id": "12754c59",
   "metadata": {},
   "outputs": [],
   "source": [
    "co_mean_std=co_mean_std.rename(columns={'Weekly_Sales':'Coefficient of mean to standard deviation'})"
   ]
  },
  {
   "cell_type": "code",
   "execution_count": null,
   "id": "341e256f",
   "metadata": {},
   "outputs": [],
   "source": [
    "co_mean_std"
   ]
  },
  {
   "cell_type": "code",
   "execution_count": null,
   "id": "a041d8f7",
   "metadata": {},
   "outputs": [],
   "source": [
    "co_mean_max_std=co_mean_std.sort_values(by='Coefficient of mean to standard deviation')"
   ]
  },
  {
   "cell_type": "code",
   "execution_count": null,
   "id": "5e09b557",
   "metadata": {},
   "outputs": [],
   "source": [
    "plt.figure(figsize=(15,7))\n",
    "sns.distplot(data[data['Store']==co_mean_max_std.tail(1).index[0]]['Weekly_Sales'])\n",
    "plt.title('The max Distribution of Store #'+ str(co_mean_max_std.tail(1).index[0]));"
   ]
  },
  {
   "cell_type": "markdown",
   "id": "6748cf51",
   "metadata": {},
   "source": [
    "# Which store/s has good quarterly growth rate in Q3’2012"
   ]
  },
  {
   "cell_type": "code",
   "execution_count": null,
   "id": "125ce470",
   "metadata": {},
   "outputs": [],
   "source": [
    "q3=data[(data['Date']> '2012-07-01') & (data['Date'] < '2012-09-30')].groupby('Store')[\"Weekly_Sales\"].sum()\n",
    "q2=data[(data['Date']> '2012-04-01') & (data['Date'] < '2012-06-30')].groupby('Store')[\"Weekly_Sales\"].sum()"
   ]
  },
  {
   "cell_type": "code",
   "execution_count": null,
   "id": "ef96055f",
   "metadata": {},
   "outputs": [],
   "source": [
    "q3.head(3)"
   ]
  },
  {
   "cell_type": "code",
   "execution_count": null,
   "id": "f35714f2",
   "metadata": {},
   "outputs": [],
   "source": [
    "plt.figure(figsize=(16,6))\n",
    "q2.plot(ax=q3.plot(kind='bar',legend=True),kind='bar',color='r',alpha=0.2,legend=True);\n",
    "plt.legend([\"Q3' 2012\", \"Q2' 2012\"]);"
   ]
  },
  {
   "cell_type": "code",
   "execution_count": null,
   "id": "4dad887e",
   "metadata": {},
   "outputs": [],
   "source": [
    "print('Store have good quarterly growth rate in Q3’2012 is Store '+str(q3.idxmax())+' With '+str(q3.max())+' $')"
   ]
  },
  {
   "cell_type": "markdown",
   "id": "adeaf0ec",
   "metadata": {},
   "source": [
    "# Some holidays have a negative impact on sales. Find out holidays which have higher sales than the mean sales in non-holiday season for all stores together"
   ]
  },
  {
   "cell_type": "code",
   "execution_count": null,
   "id": "db4c59a2",
   "metadata": {},
   "outputs": [],
   "source": [
    "data['Holiday_Flag'].unique()"
   ]
  },
  {
   "cell_type": "code",
   "execution_count": null,
   "id": "6e6a51d4",
   "metadata": {},
   "outputs": [],
   "source": [
    "Super_Bowl=['12-2-2010', '11-2-2011', '10-2-2012', '8-2-2013'] \n",
    "Labour_Day=['10-9-2010', '9-9-2011', '7-9-2012', '6-9-2013' ]\n",
    "Thanksgiving=['26-11-2010', '25-11-2011', '23-11-2012', '29-11-2013'] \n",
    "Christmas=['31-12-2010', '30-12-2011', '28-12-2012', '27-12-2013']"
   ]
  },
  {
   "cell_type": "code",
   "execution_count": null,
   "id": "5d30026f",
   "metadata": {},
   "outputs": [],
   "source": [
    "data.loc[data.Date.isin(Super_Bowl)]"
   ]
  },
  {
   "cell_type": "code",
   "execution_count": null,
   "id": "54a21eec",
   "metadata": {},
   "outputs": [],
   "source": [
    "total_sales = data.groupby('Date')['Weekly_Sales'].sum().reset_index()"
   ]
  },
  {
   "cell_type": "code",
   "execution_count": null,
   "id": "124930a8",
   "metadata": {},
   "outputs": [],
   "source": [
    "total_sales"
   ]
  },
  {
   "cell_type": "code",
   "execution_count": null,
   "id": "6f9b0b37",
   "metadata": {},
   "outputs": [],
   "source": [
    "# Yearly Sales in holidays\n",
    "Super_Bowl_df = pd.DataFrame(data.loc[data.Date.isin(Super_Bowl)].groupby('year')['Weekly_Sales'].sum())\n",
    "Thanksgiving_df = pd.DataFrame(data.loc[data.Date.isin(Thanksgiving)].groupby('year')['Weekly_Sales'].sum())\n",
    "Labour_Day_df = pd.DataFrame(data.loc[data.Date.isin(Labour_Day)].groupby('year')['Weekly_Sales'].sum())\n",
    "Christmas_df = pd.DataFrame(data.loc[data.Date.isin(Christmas)].groupby('year')['Weekly_Sales'].sum())\n",
    "\n",
    "Super_Bowl_df.plot(kind='bar',legend=False,title='Yearly Sales in Super Bowl holiday') \n",
    "Thanksgiving_df.plot(kind='bar',legend=False,title='Yearly Sales in Thanksgiving holiday') \n",
    "Labour_Day_df.plot(kind='bar',legend=False,title='Yearly Sales in Labour_Day holiday')\n",
    "Christmas_df.plot(kind='bar',legend=False,title='Yearly Sales in Christmas holiday')"
   ]
  },
  {
   "cell_type": "markdown",
   "id": "1243401e",
   "metadata": {},
   "source": [
    "Provide a monthly and semester view of sales in units and give insights"
   ]
  },
  {
   "cell_type": "code",
   "execution_count": null,
   "id": "8485ea6c",
   "metadata": {},
   "outputs": [],
   "source": [
    "plt.scatter(data[data.year==2010][\"Month\"],data[data.year==2010][\"Weekly_Sales\"])\n",
    "plt.xlabel(\"months\")\n",
    "plt.ylabel(\"Weekly Sales\")\n",
    "plt.title(\"Monthly view of sales in 2010\")\n",
    "plt.show()"
   ]
  },
  {
   "cell_type": "code",
   "execution_count": null,
   "id": "64a40aef",
   "metadata": {},
   "outputs": [],
   "source": [
    "plt.scatter(data[data.year==2011][\"Month\"],data[data.year==2011][\"Weekly_Sales\"])\n",
    "plt.xlabel(\"Month\")\n",
    "plt.ylabel(\"Weekly Slaes\")\n",
    "plt.title(\"Monthly sale in 2011\")\n",
    "plt.show()"
   ]
  },
  {
   "cell_type": "code",
   "execution_count": null,
   "id": "fc661990",
   "metadata": {},
   "outputs": [],
   "source": [
    "plt.scatter(data[data.year==2012][\"Month\"],data[data.year==2012][\"Weekly_Sales\"])\n",
    "plt.xlabel(\"Month\")\n",
    "plt.ylabel(\"Weekly sales\")\n",
    "plt.title(\"Monthly sale in 2012\")\n",
    "plt.show()"
   ]
  },
  {
   "cell_type": "code",
   "execution_count": null,
   "id": "87aceb74",
   "metadata": {},
   "outputs": [],
   "source": [
    "plt.figure(figsize=(10,6))\n",
    "plt.bar(data[\"Month\"],data[\"Weekly_Sales\"])\n",
    "plt.xlabel(\"months\")\n",
    "plt.ylabel(\"Weekly Sales\")\n",
    "plt.title(\"Monthly view of sales\")"
   ]
  },
  {
   "cell_type": "code",
   "execution_count": null,
   "id": "7d81c593",
   "metadata": {},
   "outputs": [],
   "source": [
    "plt.figure(figsize=(10,6))\n",
    "plt.bar(data[\"year\"],data[\"Weekly_Sales\"])\n",
    "plt.xlabel(\"months\")\n",
    "plt.ylabel(\"Weekly Sales\")\n",
    "plt.title(\"Yearly view of sales\")"
   ]
  },
  {
   "cell_type": "code",
   "execution_count": null,
   "id": "cd7a9422",
   "metadata": {},
   "outputs": [],
   "source": [
    "from sklearn.ensemble import RandomForestRegressor\n",
    "from sklearn.model_selection import train_test_split\n",
    "from sklearn import metrics\n",
    "import sklearn.linear_model as lm"
   ]
  },
  {
   "cell_type": "code",
   "execution_count": null,
   "id": "2786a630",
   "metadata": {},
   "outputs": [],
   "source": [
    "data.columns"
   ]
  },
  {
   "cell_type": "code",
   "execution_count": null,
   "id": "f50e5865",
   "metadata": {},
   "outputs": [],
   "source": [
    "x=data[['Store','Fuel_Price', 'CPI', 'Unemployment', 'days', 'Month', 'year']]\n",
    "y=data[['Weekly_Sales']]"
   ]
  },
  {
   "cell_type": "code",
   "execution_count": null,
   "id": "1d134b0c",
   "metadata": {},
   "outputs": [],
   "source": [
    "x_train,x_test,y_train,y_test=train_test_split(x,y,test_size=0.2)"
   ]
  },
  {
   "cell_type": "code",
   "execution_count": null,
   "id": "5cbdad39",
   "metadata": {},
   "outputs": [],
   "source": [
    "x_train.shape,x_test.shape,y_train.shape,y_test.shape"
   ]
  },
  {
   "cell_type": "code",
   "execution_count": null,
   "id": "8831d359",
   "metadata": {},
   "outputs": [],
   "source": [
    "glm=lm.LinearRegression()"
   ]
  },
  {
   "cell_type": "code",
   "execution_count": null,
   "id": "3dfd38ca",
   "metadata": {},
   "outputs": [],
   "source": [
    "glm.fit(x_train,y_train)"
   ]
  },
  {
   "cell_type": "code",
   "execution_count": null,
   "id": "a1959905",
   "metadata": {},
   "outputs": [],
   "source": [
    "metrics.mean_squared_error(y_test,glm.predict(x_test))"
   ]
  },
  {
   "cell_type": "code",
   "execution_count": null,
   "id": "3ef29508",
   "metadata": {},
   "outputs": [],
   "source": [
    "import warnings\n",
    "warnings.filterwarnings(\"ignore\")"
   ]
  },
  {
   "cell_type": "code",
   "execution_count": null,
   "id": "e316a5dd",
   "metadata": {},
   "outputs": [],
   "source": [
    "li=[]\n",
    "print(li)"
   ]
  },
  {
   "cell_type": "code",
   "execution_count": null,
   "id": "455dd99d",
   "metadata": {},
   "outputs": [],
   "source": [
    "\n",
    "def nestimator(n):\n",
    "    for i in range(400,n,10):\n",
    "        #print(\"for value of\",i)\n",
    "        \n",
    "        rfr = RandomForestRegressor(n_estimators = i,max_depth=15,n_jobs=5)        \n",
    "        rfr.fit(x_train,y_train)\n",
    "        y_pred=rfr.predict(x_test)\n",
    "        li.append(metrics.mean_squared_error(y_test, y_pred))\n",
    "        #print('Accuracy:',rfr.score(x_test, y_test)*100)\n",
    "\n",
    "        #print('Mean Absolute Error:', metrics.mean_absolute_error(y_test, y_pred))\n",
    "        #print('Mean Squared Error:', metrics.mean_squared_error(y_test, y_pred))\n",
    "        #print('Root Mean Squared Error:', np.sqrt(metrics.mean_squared_error(y_test, y_pred)))\n",
    "\n"
   ]
  },
  {
   "cell_type": "code",
   "execution_count": null,
   "id": "db1e77d8",
   "metadata": {},
   "outputs": [],
   "source": [
    "nestimator(800)"
   ]
  },
  {
   "cell_type": "code",
   "execution_count": null,
   "id": "98f48627",
   "metadata": {},
   "outputs": [],
   "source": [
    "print(min(li))"
   ]
  },
  {
   "cell_type": "code",
   "execution_count": null,
   "id": "77f05ba5",
   "metadata": {},
   "outputs": [],
   "source": [
    "li.index(min(li))"
   ]
  },
  {
   "cell_type": "code",
   "execution_count": null,
   "id": "8513cd72",
   "metadata": {},
   "outputs": [],
   "source": [
    "li[li.index(min(li))]"
   ]
  },
  {
   "cell_type": "code",
   "execution_count": null,
   "id": "45ee4565",
   "metadata": {},
   "outputs": [],
   "source": [
    "# Random Forest Regressor\n",
    "print('Random Forest Regressor:')\n",
    "print()\n",
    "rfr = RandomForestRegressor(n_estimators = 450,max_depth=15,n_jobs=5)        \n",
    "rfr.fit(x_train,y_train)\n",
    "y_pred=rfr.predict(x_test)\n",
    "print('Accuracy:',rfr.score(x_test, y_test)*100)\n",
    "\n",
    "print('Mean Absolute Error:', metrics.mean_absolute_error(y_test, y_pred))\n",
    "print('Mean Squared Error:', metrics.mean_squared_error(y_test, y_pred))\n",
    "print('Root Mean Squared Error:', np.sqrt(metrics.mean_squared_error(y_test, y_pred)))\n",
    "\n"
   ]
  },
  {
   "cell_type": "code",
   "execution_count": null,
   "id": "da12a8a4",
   "metadata": {},
   "outputs": [],
   "source": []
  }
 ],
 "metadata": {
  "kernelspec": {
   "display_name": "Python 3",
   "language": "python",
   "name": "python3"
  },
  "language_info": {
   "codemirror_mode": {
    "name": "ipython",
    "version": 3
   },
   "file_extension": ".py",
   "mimetype": "text/x-python",
   "name": "python",
   "nbconvert_exporter": "python",
   "pygments_lexer": "ipython3",
   "version": "3.8.4"
  }
 },
 "nbformat": 4,
 "nbformat_minor": 5
}
