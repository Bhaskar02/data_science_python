{
 "cells": [
  {
   "cell_type": "code",
   "execution_count": null,
   "id": "840e3348",
   "metadata": {},
   "outputs": [],
   "source": [
    "import pandas as pd\n",
    "import numpy as np\n",
    "import matplotlib.pyplot as plt\n",
    "import datetime as dt"
   ]
  },
  {
   "cell_type": "code",
   "execution_count": null,
   "id": "adb78f12",
   "metadata": {},
   "outputs": [],
   "source": [
    "nyc=pd.read_csv(\"data/311_Service_Requests_from_2010_to_Present.csv\",low_memory=False,parse_dates=[\"Created Date\", \"Closed Date\"])\n",
    "nyc.head()"
   ]
  },
  {
   "cell_type": "code",
   "execution_count": null,
   "id": "d0f34a69",
   "metadata": {},
   "outputs": [],
   "source": [
    "nyc.shape"
   ]
  },
  {
   "cell_type": "code",
   "execution_count": null,
   "id": "12b1d8ea",
   "metadata": {},
   "outputs": [],
   "source": [
    "nyc.isnull().sum()"
   ]
  },
  {
   "cell_type": "code",
   "execution_count": null,
   "id": "d50b6b0f",
   "metadata": {},
   "outputs": [],
   "source": [
    "nyc.info()"
   ]
  },
  {
   "cell_type": "code",
   "execution_count": null,
   "id": "aec7defc",
   "metadata": {},
   "outputs": [],
   "source": [
    "nyc.columns"
   ]
  },
  {
   "cell_type": "code",
   "execution_count": null,
   "id": "d5213cff",
   "metadata": {},
   "outputs": [],
   "source": [
    "nyc['Complaint Type'].unique()"
   ]
  },
  {
   "cell_type": "code",
   "execution_count": null,
   "id": "aef1dbe6",
   "metadata": {},
   "outputs": [],
   "source": [
    "nyc['Descriptor'].unique()"
   ]
  },
  {
   "cell_type": "code",
   "execution_count": null,
   "id": "27d12f77",
   "metadata": {},
   "outputs": [],
   "source": [
    "cpmplain_type=pd.DataFrame({'count':nyc.groupby(['Complaint Type','City']).size()}).reset_index()"
   ]
  },
  {
   "cell_type": "code",
   "execution_count": null,
   "id": "07e97e70",
   "metadata": {},
   "outputs": [],
   "source": [
    "cpmplain_type"
   ]
  },
  {
   "cell_type": "code",
   "execution_count": null,
   "id": "2c5b4d31",
   "metadata": {},
   "outputs": [],
   "source": [
    "nyc.groupby(['Descriptor','Complaint Type','Borough']).size()"
   ]
  },
  {
   "cell_type": "code",
   "execution_count": null,
   "id": "4e2c59e8",
   "metadata": {},
   "outputs": [],
   "source": [
    "nyc['Request_Closing_Time']=(nyc[\"Closed Date\"]-nyc[\"Created Date\"]).dt.total_seconds()"
   ]
  },
  {
   "cell_type": "code",
   "execution_count": null,
   "id": "4b386acf",
   "metadata": {},
   "outputs": [],
   "source": [
    "nyc['Request_Closing_Time']"
   ]
  },
  {
   "cell_type": "code",
   "execution_count": null,
   "id": "8ba143da",
   "metadata": {},
   "outputs": [],
   "source": [
    "nyc['Status'].value_counts().plot(kind='bar',figsize=(7,8))"
   ]
  },
  {
   "cell_type": "code",
   "execution_count": null,
   "id": "150ee676",
   "metadata": {},
   "outputs": [],
   "source": [
    "nyc['Complaint Type'].value_counts().head().plot(kind='barh',figsize=(9,10))"
   ]
  },
  {
   "cell_type": "code",
   "execution_count": null,
   "id": "a1e27904",
   "metadata": {},
   "outputs": [],
   "source": [
    "nyc.groupby([\"Borough\",\"Complaint Type\",\"Descriptor\"]).size()"
   ]
  },
  {
   "cell_type": "code",
   "execution_count": null,
   "id": "94bcff34",
   "metadata": {},
   "outputs": [],
   "source": [
    "nyc[\"Borough\"].value_counts().plot(kind='pie',autopct=\"%1.1f%%\")"
   ]
  },
  {
   "cell_type": "code",
   "execution_count": null,
   "id": "1d89544e",
   "metadata": {},
   "outputs": [],
   "source": [
    "com=nyc[\"Borough\"].value_counts()\n",
    "com.argmax()\n",
    "highcom=com.index[com.argmax()]\n",
    "highcom"
   ]
  },
  {
   "cell_type": "code",
   "execution_count": null,
   "id": "54b4a77f",
   "metadata": {},
   "outputs": [],
   "source": [
    "BROOKLYN_complain=nyc[nyc[\"Borough\"]=='BROOKLYN']"
   ]
  },
  {
   "cell_type": "code",
   "execution_count": null,
   "id": "4efc0199",
   "metadata": {},
   "outputs": [],
   "source": [
    "BROOKLYN_complain.shape"
   ]
  },
  {
   "cell_type": "code",
   "execution_count": null,
   "id": "f62fdc25",
   "metadata": {},
   "outputs": [],
   "source": [
    "BROOKLYN_complain['Complaint Type'].value_counts().head(25).plot(kind='bar',title='complain')"
   ]
  },
  {
   "cell_type": "code",
   "execution_count": null,
   "id": "2b7335ea",
   "metadata": {},
   "outputs": [],
   "source": [
    "BROOKLYN_complain['Location Type'].value_counts().head().plot(kind='bar',title='location vs complain')"
   ]
  },
  {
   "cell_type": "code",
   "execution_count": null,
   "id": "1190a6c7",
   "metadata": {},
   "outputs": [],
   "source": [
    "cpmplain_type1=nyc.groupby(['City','Complaint Type']).Request_Closing_Time.mean()"
   ]
  },
  {
   "cell_type": "code",
   "execution_count": null,
   "id": "6a57e37c",
   "metadata": {},
   "outputs": [],
   "source": [
    "cpmplain_type1.head(23)"
   ]
  },
  {
   "cell_type": "code",
   "execution_count": null,
   "id": "a5c3f3db",
   "metadata": {},
   "outputs": [],
   "source": [
    "avg_res_time=nyc.groupby(['Complaint Type']).Request_Closing_Time.mean().sort_values(ascending=True)\n",
    "avg_res_time.index[avg_res_time.argmax()]"
   ]
  },
  {
   "cell_type": "code",
   "execution_count": null,
   "id": "22f82016",
   "metadata": {},
   "outputs": [],
   "source": [
    "Disorderl_youth=nyc[nyc['Complaint Type']=='Disorderly Youth']\n",
    "Disorderl_youth=Disorderl_youth.loc[:,['Request_Closing_Time']]\n",
    "Disorderl_youth.head()\n"
   ]
  },
  {
   "cell_type": "code",
   "execution_count": null,
   "id": "93b5f7f5",
   "metadata": {},
   "outputs": [],
   "source": [
    "noise_youth=nyc[nyc['Complaint Type']=='Noise - Vehicle']\n",
    "noise_youth=Disorderl_youth.loc[:,['Request_Closing_Time']]\n",
    "noise_youth.head()"
   ]
  },
  {
   "cell_type": "code",
   "execution_count": null,
   "id": "dcda250d",
   "metadata": {},
   "outputs": [],
   "source": [
    "nyc_type=nyc.loc[:,['Complaint Type','Request_Closing_Time']]\n",
    "nyc_type.head()\n",
    "nyc_type.columns"
   ]
  },
  {
   "cell_type": "code",
   "execution_count": null,
   "id": "bf8433dd",
   "metadata": {},
   "outputs": [],
   "source": [
    "majorcomp=nyc.dropna(subset=['Complaint Type'])"
   ]
  },
  {
   "cell_type": "code",
   "execution_count": null,
   "id": "62e04ab1",
   "metadata": {},
   "outputs": [],
   "source": [
    "majorcomp=nyc.groupby('Complaint Type')"
   ]
  },
  {
   "cell_type": "code",
   "execution_count": null,
   "id": "ccf2810c",
   "metadata": {},
   "outputs": [],
   "source": [
    "sotredcomplint=pd.DataFrame({'count':majorcomp.size().sort_values(ascending = False)}).reset_index()"
   ]
  },
  {
   "cell_type": "code",
   "execution_count": null,
   "id": "05d29b8f",
   "metadata": {},
   "outputs": [],
   "source": [
    "sotredcomplint"
   ]
  },
  {
   "cell_type": "code",
   "execution_count": null,
   "id": "7597da4a",
   "metadata": {},
   "outputs": [],
   "source": [
    "plt.figure(figsize=(5,5))\n",
    "plt.pie(sotredcomplint['count'],labels=sotredcomplint['Complaint Type'],autopct=\"%1.1f%%\")\n",
    "plt.show()"
   ]
  },
  {
   "cell_type": "code",
   "execution_count": null,
   "id": "5a37ac32",
   "metadata": {},
   "outputs": [],
   "source": []
  }
 ],
 "metadata": {
  "kernelspec": {
   "display_name": "Python 3",
   "language": "python",
   "name": "python3"
  },
  "language_info": {
   "codemirror_mode": {
    "name": "ipython",
    "version": 3
   },
   "file_extension": ".py",
   "mimetype": "text/x-python",
   "name": "python",
   "nbconvert_exporter": "python",
   "pygments_lexer": "ipython3",
   "version": "3.8.4"
  }
 },
 "nbformat": 4,
 "nbformat_minor": 5
}
